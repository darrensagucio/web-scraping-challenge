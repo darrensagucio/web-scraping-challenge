{
 "cells": [
  {
   "cell_type": "code",
   "execution_count": 1,
   "id": "coupled-clark",
   "metadata": {},
   "outputs": [],
   "source": [
    "from  splinter import Browser \n",
    "from bs4 import BeautifulSoup as bs\n",
    "import time \n",
    "from webdriver_manager.chrome import ChromeDriverManager \n",
    "import pandas as pd "
   ]
  },
  {
   "cell_type": "code",
   "execution_count": 2,
   "id": "armed-quantum",
   "metadata": {},
   "outputs": [],
   "source": [
    "def scrape_mars_info():\n",
    "    # Set Up Splinter \n",
    "    executable_path = {'executable_path': ChromeDriverManager().install()}\n",
    "    browser = Browser('chrome', **executable_path, headless=False)\n",
    "    \n",
    "    # Visit Mars Website \n",
    "    url = 'https://redplanetscience.com/'\n",
    "    browser.visit(url)\n",
    "\n",
    "    time.sleep(1)\n",
    "    \n",
    "    # Scrape page into Soup\n",
    "    html = browser.html\n",
    "    soup = bs(html, \"html.parser\")\n",
    "    \n",
    "    # Get Titles And Paragraphs\n",
    "    news_block = soup.find('div', class_='list_text')\n",
    "    \n",
    "    recent_title = news_block.find_all('div', class_='content_title')[0].text\n",
    "    recent_p = news_block.find_all('div', class_='article_teaser_body')[0].text\n",
    "    \n",
    "    # Store Data In Dictionary \n",
    "    mars_data = {\n",
    "        'recent_title': recent_title,\n",
    "        'recent_parag': recent_p\n",
    "    }\n",
    "    \n",
    "    browser.quit()\n",
    "    \n",
    "    return mars_data "
   ]
  },
  {
   "cell_type": "code",
   "execution_count": 3,
   "id": "occupied-purchase",
   "metadata": {},
   "outputs": [
    {
     "name": "stderr",
     "output_type": "stream",
     "text": [
      "\n",
      "\n",
      "====== WebDriver manager ======\n",
      "Current google-chrome version is 90.0.4430\n",
      "Get LATEST driver version for 90.0.4430\n",
      "Driver [/Users/darrensagucio/.wdm/drivers/chromedriver/mac64/90.0.4430.24/chromedriver] found in cache\n"
     ]
    },
    {
     "data": {
      "text/plain": [
       "{'recent_title': \"NASA's Mars Helicopter Attached to Mars 2020 Rover \",\n",
       " 'recent_parag': 'The helicopter will be first aircraft to perform flight tests on another planet.'}"
      ]
     },
     "execution_count": 3,
     "metadata": {},
     "output_type": "execute_result"
    }
   ],
   "source": [
    "scrape_mars_info()"
   ]
  },
  {
   "cell_type": "code",
   "execution_count": 4,
   "id": "coastal-print",
   "metadata": {},
   "outputs": [],
   "source": [
    "def scrape_featured_space_img():\n",
    "    executable_path = {'executable_path': ChromeDriverManager().install()}\n",
    "    browser = Browser('chrome', **executable_path, headless=False)\n",
    "    \n",
    "    url = 'https://spaceimages-mars.com'\n",
    "    browser.visit(url)\n",
    "\n",
    "    time.sleep(1)\n",
    "    \n",
    "    html = browser.html\n",
    "    soup = bs(html, \"html.parser\")\n",
    "    \n",
    "    # Scrape URL For The Featured Image \n",
    "    featured_img_block = soup.find('div', class_='floating_text_area')\n",
    "    \n",
    "    featured_image_path = featured_img_block.find('a')[\"href\"]\n",
    "    featured_image_url = f'{url}/{featured_image_path}'\n",
    "    \n",
    "    featured_img = {\n",
    "        'featured_img_url':featured_image_url\n",
    "    }\n",
    "    \n",
    "    browser.quit()\n",
    "    \n",
    "    return featured_img"
   ]
  },
  {
   "cell_type": "code",
   "execution_count": 5,
   "id": "standard-beatles",
   "metadata": {},
   "outputs": [
    {
     "name": "stderr",
     "output_type": "stream",
     "text": [
      "\n",
      "\n",
      "====== WebDriver manager ======\n",
      "Current google-chrome version is 90.0.4430\n",
      "Get LATEST driver version for 90.0.4430\n",
      "Driver [/Users/darrensagucio/.wdm/drivers/chromedriver/mac64/90.0.4430.24/chromedriver] found in cache\n"
     ]
    },
    {
     "data": {
      "text/plain": [
       "{'featured_img_url': 'https://spaceimages-mars.com/image/featured/mars1.jpg'}"
      ]
     },
     "execution_count": 5,
     "metadata": {},
     "output_type": "execute_result"
    }
   ],
   "source": [
    "scrape_featured_space_img()"
   ]
  },
  {
   "cell_type": "code",
   "execution_count": 6,
   "id": "proved-format",
   "metadata": {},
   "outputs": [],
   "source": [
    "def scrape_mars_facts_table():\n",
    "    url = 'https://galaxyfacts-mars.com'\n",
    "    tables = pd.read_html(url)\n",
    "    df = tables[0]\n",
    "    rename_column_df = df.rename(columns={0:'Mars - Earth Comparison', 1:'Mars', 2:'Earth'}, inplace=False)\n",
    "    drop_row_df = rename_column_df.drop([0])\n",
    "    clean_df = drop_row_df.set_index('Mars - Earth Comparison')\n",
    "    html_table = clean_df.to_html()\n",
    "    clean_html = html_table.replace('\\n', '')\n",
    "    return clean_html"
   ]
  },
  {
   "cell_type": "code",
   "execution_count": 7,
   "id": "dedicated-bumper",
   "metadata": {},
   "outputs": [
    {
     "data": {
      "text/plain": [
       "'<table border=\"1\" class=\"dataframe\">  <thead>    <tr style=\"text-align: right;\">      <th></th>      <th>Mars</th>      <th>Earth</th>    </tr>    <tr>      <th>Mars - Earth Comparison</th>      <th></th>      <th></th>    </tr>  </thead>  <tbody>    <tr>      <th>Diameter:</th>      <td>6,779 km</td>      <td>12,742 km</td>    </tr>    <tr>      <th>Mass:</th>      <td>6.39 × 10^23 kg</td>      <td>5.97 × 10^24 kg</td>    </tr>    <tr>      <th>Moons:</th>      <td>2</td>      <td>1</td>    </tr>    <tr>      <th>Distance from Sun:</th>      <td>227,943,824 km</td>      <td>149,598,262 km</td>    </tr>    <tr>      <th>Length of Year:</th>      <td>687 Earth days</td>      <td>365.24 days</td>    </tr>    <tr>      <th>Temperature:</th>      <td>-87 to -5 °C</td>      <td>-88 to 58°C</td>    </tr>  </tbody></table>'"
      ]
     },
     "execution_count": 7,
     "metadata": {},
     "output_type": "execute_result"
    }
   ],
   "source": [
    "scrape_mars_facts_table()"
   ]
  },
  {
   "cell_type": "code",
   "execution_count": 8,
   "id": "wired-gazette",
   "metadata": {},
   "outputs": [],
   "source": [
    "def scrape_mars_hemispheres():\n",
    "    hemisphere_urls = [\n",
    "        'https://marshemispheres.com/cerberus.html',\n",
    "        'https://marshemispheres.com/schiaparelli.html', \n",
    "        'https://marshemispheres.com/syrtis.html',\n",
    "        'https://marshemispheres.com/valles.html'\n",
    "    ]\n",
    "    \n",
    "    url_list = []\n",
    "    \n",
    "    for i in range(len(hemisphere_urls)):\n",
    "        executable_path = {'executable_path': ChromeDriverManager().install()}\n",
    "        browser = Browser('chrome', **executable_path, headless=False)\n",
    "    \n",
    "        image_url = 'https://marshemispheres.com/'\n",
    "    \n",
    "        browser.visit(hemisphere_urls[i])\n",
    "\n",
    "        time.sleep(1)\n",
    "    \n",
    "        html = browser.html\n",
    "        soup = bs(html, \"html.parser\")\n",
    "    \n",
    "        hemisphere_block = soup.find('div', class_ = 'downloads')\n",
    "        hemisphere_ulsection = hemisphere_block.find('ul')\n",
    "        hemisphere_lisection = hemisphere_ulsection.find_all('li')[0]\n",
    "        hemisphere_path = hemisphere_lisection.find('a')[\"href\"]\n",
    "        hemisphere_url = image_url + hemisphere_path\n",
    "    \n",
    "        hemispheretitle = soup.find('h2', class_ = 'title').text\n",
    "    \n",
    "        hemisphere_image_title_urls = {\n",
    "            'title':hemispheretitle,'img_url':hemisphere_url\n",
    "        }\n",
    "        \n",
    "        url_list.append(hemisphere_image_title_urls)\n",
    "    \n",
    "        browser.quit()\n",
    "    \n",
    "    return url_list"
   ]
  },
  {
   "cell_type": "code",
   "execution_count": 9,
   "id": "compliant-rings",
   "metadata": {},
   "outputs": [
    {
     "name": "stderr",
     "output_type": "stream",
     "text": [
      "\n",
      "\n",
      "====== WebDriver manager ======\n",
      "Current google-chrome version is 90.0.4430\n",
      "Get LATEST driver version for 90.0.4430\n",
      "Driver [/Users/darrensagucio/.wdm/drivers/chromedriver/mac64/90.0.4430.24/chromedriver] found in cache\n",
      "\n",
      "\n",
      "====== WebDriver manager ======\n",
      "Current google-chrome version is 90.0.4430\n",
      "Get LATEST driver version for 90.0.4430\n",
      "Driver [/Users/darrensagucio/.wdm/drivers/chromedriver/mac64/90.0.4430.24/chromedriver] found in cache\n",
      "\n",
      "\n",
      "====== WebDriver manager ======\n",
      "Current google-chrome version is 90.0.4430\n",
      "Get LATEST driver version for 90.0.4430\n",
      "Driver [/Users/darrensagucio/.wdm/drivers/chromedriver/mac64/90.0.4430.24/chromedriver] found in cache\n",
      "\n",
      "\n",
      "====== WebDriver manager ======\n",
      "Current google-chrome version is 90.0.4430\n",
      "Get LATEST driver version for 90.0.4430\n",
      "Driver [/Users/darrensagucio/.wdm/drivers/chromedriver/mac64/90.0.4430.24/chromedriver] found in cache\n"
     ]
    },
    {
     "data": {
      "text/plain": [
       "[{'title': 'Cerberus Hemisphere Enhanced',\n",
       "  'img_url': 'https://marshemispheres.com/images/full.jpg'},\n",
       " {'title': 'Schiaparelli Hemisphere Enhanced',\n",
       "  'img_url': 'https://marshemispheres.com/images/schiaparelli_enhanced-full.jpg'},\n",
       " {'title': 'Syrtis Major Hemisphere Enhanced',\n",
       "  'img_url': 'https://marshemispheres.com/images/syrtis_major_enhanced-full.jpg'},\n",
       " {'title': 'Valles Marineris Hemisphere Enhanced',\n",
       "  'img_url': 'https://marshemispheres.com/images/valles_marineris_enhanced-full.jpg'}]"
      ]
     },
     "execution_count": 9,
     "metadata": {},
     "output_type": "execute_result"
    }
   ],
   "source": [
    "scrape_mars_hemispheres()"
   ]
  },
  {
   "cell_type": "code",
   "execution_count": 10,
   "id": "recognized-favorite",
   "metadata": {},
   "outputs": [],
   "source": [
    "# Checking Scrape_Mars.py\n",
    "\n",
    "# def scrape():\n",
    "#     url_list = [\n",
    "#         'https://redplanetscience.com/',\n",
    "#         'https://spaceimages-mars.com',\n",
    "#         'https://galaxyfacts-mars.com',\n",
    "#         'https://marshemispheres.com/cerberus.html',\n",
    "#         'https://marshemispheres.com/schiaparelli.html',\n",
    "#         'https://marshemispheres.com/syrtis.html',\n",
    "#         'https://marshemispheres.com/valles.html'\n",
    "#     ]\n",
    "\n",
    "#     loop_count = 0\n",
    "#     count_hemispheres = 0 \n",
    "#     hemisphere_list = []\n",
    "\n",
    "#     for i in range(len(url_list)):\n",
    "#         executable_path = {'executable_path': ChromeDriverManager().install()}\n",
    "#         browser = Browser('chrome', **executable_path, headless=False)\n",
    "\n",
    "#         browser.visit(url_list[i])\n",
    "\n",
    "#         time.sleep(1)\n",
    "        \n",
    "#         html = browser.html\n",
    "#         soup = bs(html, \"html.parser\")\n",
    "\n",
    "#         if loop_count == 0:\n",
    "#             news_block = soup.find('div', class_='list_text')\n",
    "    \n",
    "#             recent_title = news_block.find_all('div', class_='content_title')[0].text\n",
    "#             recent_p = news_block.find_all('div', class_='article_teaser_body')[0].text\n",
    "\n",
    "#             mars_scrapedata = {\n",
    "#                 'recent_title': recent_title,\n",
    "#                 'recent_parag': recent_p\n",
    "#             }\n",
    "\n",
    "#             browser.quit()\n",
    "        \n",
    "#         if loop_count == 1:\n",
    "#             featured_img_block = soup.find('div', class_='floating_text_area')\n",
    "    \n",
    "#             featured_image_path = featured_img_block.find('a')[\"href\"]\n",
    "#             featured_image_url = f'{url_list[i]}/{featured_image_path}'\n",
    "\n",
    "#             mars_scrapedata['featured_img_url'] = featured_image_url\n",
    "\n",
    "#             browser.quit()\n",
    "        \n",
    "#         if loop_count == 2:\n",
    "#             tables = pd.read_html(url_list[i])\n",
    "#             df = tables[0]\n",
    "#             mars_html_table = df.to_html()\n",
    "#             clean_html = mars_html_table.replace('\\n', '')\n",
    "#             mars_scrapedata['mars_table'] = clean_html\n",
    "#             browser.quit()\n",
    "            \n",
    "#         if loop_count > 2:\n",
    "#             image_url = 'https://marshemispheres.com/'\n",
    "            \n",
    "#             hemisphere_block = soup.find('div', class_ = 'downloads')\n",
    "#             hemisphere_ulsection = hemisphere_block.find('ul')\n",
    "#             hemisphere_lisection = hemisphere_ulsection.find_all('li')[0]\n",
    "#             hemisphere_path = hemisphere_lisection.find('a')[\"href\"]\n",
    "#             hemisphere_url = image_url + hemisphere_path\n",
    "    \n",
    "#             hemispheretitle = soup.find('h2', class_ = 'title').text\n",
    "    \n",
    "#             hemisphere_image_title_urls = {\n",
    "#                 'title':hemispheretitle,'img_url':hemisphere_url\n",
    "#             }\n",
    "        \n",
    "#             hemisphere_list.append(hemisphere_image_title_urls)\n",
    "\n",
    "#             browser.quit()\n",
    "            \n",
    "#             count_hemispheres += 1\n",
    "            \n",
    "#             if count_hemispheres == 4:\n",
    "#                 mars_scrapedata['hemisphere_urls'] = hemisphere_list\n",
    "                    \n",
    "#         loop_count += 1   \n",
    "            \n",
    "#     return mars_scrapedata"
   ]
  },
  {
   "cell_type": "code",
   "execution_count": 11,
   "id": "surrounded-delta",
   "metadata": {},
   "outputs": [
    {
     "name": "stderr",
     "output_type": "stream",
     "text": [
      "\n",
      "\n",
      "====== WebDriver manager ======\n",
      "Current google-chrome version is 90.0.4430\n",
      "Get LATEST driver version for 90.0.4430\n",
      "Driver [/Users/darrensagucio/.wdm/drivers/chromedriver/mac64/90.0.4430.24/chromedriver] found in cache\n",
      "\n",
      "\n",
      "====== WebDriver manager ======\n",
      "Current google-chrome version is 90.0.4430\n",
      "Get LATEST driver version for 90.0.4430\n",
      "Driver [/Users/darrensagucio/.wdm/drivers/chromedriver/mac64/90.0.4430.24/chromedriver] found in cache\n",
      "\n",
      "\n",
      "====== WebDriver manager ======\n",
      "Current google-chrome version is 90.0.4430\n",
      "Get LATEST driver version for 90.0.4430\n",
      "Driver [/Users/darrensagucio/.wdm/drivers/chromedriver/mac64/90.0.4430.24/chromedriver] found in cache\n",
      "\n",
      "\n",
      "====== WebDriver manager ======\n",
      "Current google-chrome version is 90.0.4430\n",
      "Get LATEST driver version for 90.0.4430\n",
      "Driver [/Users/darrensagucio/.wdm/drivers/chromedriver/mac64/90.0.4430.24/chromedriver] found in cache\n",
      "\n",
      "\n",
      "====== WebDriver manager ======\n",
      "Current google-chrome version is 90.0.4430\n",
      "Get LATEST driver version for 90.0.4430\n",
      "Driver [/Users/darrensagucio/.wdm/drivers/chromedriver/mac64/90.0.4430.24/chromedriver] found in cache\n",
      "\n",
      "\n",
      "====== WebDriver manager ======\n",
      "Current google-chrome version is 90.0.4430\n",
      "Get LATEST driver version for 90.0.4430\n",
      "Driver [/Users/darrensagucio/.wdm/drivers/chromedriver/mac64/90.0.4430.24/chromedriver] found in cache\n",
      "\n",
      "\n",
      "====== WebDriver manager ======\n",
      "Current google-chrome version is 90.0.4430\n",
      "Get LATEST driver version for 90.0.4430\n",
      "Driver [/Users/darrensagucio/.wdm/drivers/chromedriver/mac64/90.0.4430.24/chromedriver] found in cache\n"
     ]
    },
    {
     "data": {
      "text/plain": [
       "{'recent_title': \"InSight's 'Mole' Team Peers into the Pit\",\n",
       " 'recent_parag': 'Efforts to save the heat probe continue.',\n",
       " 'featured_img_url': 'https://spaceimages-mars.com/image/featured/mars2.jpg',\n",
       " 'mars_table': '<table border=\"1\" class=\"dataframe\">  <thead>    <tr style=\"text-align: right;\">      <th></th>      <th>0</th>      <th>1</th>      <th>2</th>    </tr>  </thead>  <tbody>    <tr>      <th>0</th>      <td>Mars - Earth Comparison</td>      <td>Mars</td>      <td>Earth</td>    </tr>    <tr>      <th>1</th>      <td>Diameter:</td>      <td>6,779 km</td>      <td>12,742 km</td>    </tr>    <tr>      <th>2</th>      <td>Mass:</td>      <td>6.39 × 10^23 kg</td>      <td>5.97 × 10^24 kg</td>    </tr>    <tr>      <th>3</th>      <td>Moons:</td>      <td>2</td>      <td>1</td>    </tr>    <tr>      <th>4</th>      <td>Distance from Sun:</td>      <td>227,943,824 km</td>      <td>149,598,262 km</td>    </tr>    <tr>      <th>5</th>      <td>Length of Year:</td>      <td>687 Earth days</td>      <td>365.24 days</td>    </tr>    <tr>      <th>6</th>      <td>Temperature:</td>      <td>-87 to -5 °C</td>      <td>-88 to 58°C</td>    </tr>  </tbody></table>',\n",
       " 'hemisphere_urls': [{'title': 'Cerberus Hemisphere Enhanced',\n",
       "   'img_url': 'https://marshemispheres.com/images/full.jpg'},\n",
       "  {'title': 'Schiaparelli Hemisphere Enhanced',\n",
       "   'img_url': 'https://marshemispheres.com/images/schiaparelli_enhanced-full.jpg'},\n",
       "  {'title': 'Syrtis Major Hemisphere Enhanced',\n",
       "   'img_url': 'https://marshemispheres.com/images/syrtis_major_enhanced-full.jpg'},\n",
       "  {'title': 'Valles Marineris Hemisphere Enhanced',\n",
       "   'img_url': 'https://marshemispheres.com/images/valles_marineris_enhanced-full.jpg'}]}"
      ]
     },
     "execution_count": 11,
     "metadata": {},
     "output_type": "execute_result"
    }
   ],
   "source": [
    "# scrape()"
   ]
  },
  {
   "cell_type": "code",
   "execution_count": null,
   "id": "coupled-framework",
   "metadata": {},
   "outputs": [],
   "source": []
  }
 ],
 "metadata": {
  "kernelspec": {
   "display_name": "Python [conda env:PythonData] *",
   "language": "python",
   "name": "conda-env-PythonData-py"
  },
  "language_info": {
   "codemirror_mode": {
    "name": "ipython",
    "version": 3
   },
   "file_extension": ".py",
   "mimetype": "text/x-python",
   "name": "python",
   "nbconvert_exporter": "python",
   "pygments_lexer": "ipython3",
   "version": "3.6.10"
  }
 },
 "nbformat": 4,
 "nbformat_minor": 5
}
