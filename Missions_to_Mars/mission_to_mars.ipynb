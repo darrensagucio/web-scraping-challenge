{
 "cells": [
  {
   "cell_type": "code",
   "execution_count": 1,
   "id": "coupled-clark",
   "metadata": {},
   "outputs": [],
   "source": [
    "from  splinter import Browser \n",
    "from bs4 import BeautifulSoup as bs\n",
    "import time \n",
    "from webdriver_manager.chrome import ChromeDriverManager \n",
    "import pandas as pd "
   ]
  },
  {
   "cell_type": "code",
   "execution_count": 8,
   "id": "armed-quantum",
   "metadata": {},
   "outputs": [
    {
     "ename": "SyntaxError",
     "evalue": "invalid syntax (<ipython-input-8-b171865f45dd>, line 26)",
     "output_type": "error",
     "traceback": [
      "\u001b[0;36m  File \u001b[0;32m\"<ipython-input-8-b171865f45dd>\"\u001b[0;36m, line \u001b[0;32m26\u001b[0m\n\u001b[0;31m    ['recent_title': recent_title,\u001b[0m\n\u001b[0m                   ^\u001b[0m\n\u001b[0;31mSyntaxError\u001b[0m\u001b[0;31m:\u001b[0m invalid syntax\n"
     ]
    }
   ],
   "source": [
    "def scrape_mars_info():\n",
    "    # Set Up Splinter \n",
    "    executable_path = {'executable_path': ChromeDriverManager().install()}\n",
    "    browser = Browser('chrome', **executable_path, headless=False)\n",
    "    \n",
    "    # Visit Mars Website \n",
    "    url = 'https://redplanetscience.com/'\n",
    "    browser.visit(url)\n",
    "\n",
    "    time.sleep(1)\n",
    "    \n",
    "    # Scrape page into Soup\n",
    "    html = browser.html\n",
    "    soup = bs(html, \"html.parser\")\n",
    "    \n",
    "    # Get Titles And Paragraphs\n",
    "#     news_titles = soup.find('div', class='content_title')\n",
    "#     news_paragraphs = soup.find('div', class='article_teaser_body')\n",
    "    news_block = soup.find('div', class_='list_text')\n",
    "    \n",
    "    recent_title = news_block.find_all('div', class_='content_title')[0].text\n",
    "    recent_p = news_block.find_all('div', class_='article_teaser_body')[0].text\n",
    "    \n",
    "    # Store Data In Dictionary \n",
    "    mars_data = {\n",
    "        'recent_title': recent_title,\n",
    "        'recent_parag': recent_p\n",
    "    }\n",
    "    \n",
    "    browser.quit()\n",
    "    \n",
    "    return mars_data "
   ]
  },
  {
   "cell_type": "code",
   "execution_count": 3,
   "id": "occupied-purchase",
   "metadata": {},
   "outputs": [
    {
     "name": "stderr",
     "output_type": "stream",
     "text": [
      "\n",
      "\n",
      "====== WebDriver manager ======\n",
      "Current google-chrome version is 90.0.4430\n",
      "Get LATEST driver version for 90.0.4430\n",
      "Get LATEST driver version for 90.0.4430\n",
      "Trying to download new driver from https://chromedriver.storage.googleapis.com/90.0.4430.24/chromedriver_mac64.zip\n",
      "Driver has been saved in cache [/Users/darrensagucio/.wdm/drivers/chromedriver/mac64/90.0.4430.24]\n"
     ]
    },
    {
     "data": {
      "text/plain": [
       "{'recent_title': 'Sensors on Mars 2020 Spacecraft Answer Long-Distance Call From Earth',\n",
       " 'recent_parag': \"Instruments tailored to collect data during the descent of NASA's next rover through the Red Planet's atmosphere have been checked in flight.\"}"
      ]
     },
     "execution_count": 3,
     "metadata": {},
     "output_type": "execute_result"
    }
   ],
   "source": [
    "scrape_mars_info()"
   ]
  },
  {
   "cell_type": "code",
   "execution_count": null,
   "id": "coastal-print",
   "metadata": {},
   "outputs": [],
   "source": [
    "def scrape_featured_space_img():\n",
    "    executable_path = {'executable_path': ChromeDriverManager().install()}\n",
    "    browser = Browser('chrome', **executable_path, headless=False)\n",
    "    \n",
    "    url = 'https://spaceimages-mars.com'\n",
    "    browser.visit(url)\n",
    "\n",
    "    time.sleep(1)\n",
    "    \n",
    "    html = browser.html\n",
    "    soup = bs(html, \"html.parser\")\n",
    "    \n",
    "    # Scrape URL For The Featured Image \n",
    "    featured_img_block = soup.find('div', class_='floating_text_area')\n",
    "    \n",
    "    featured_image_path = featured_img_block.find('a')[\"href\"]\n",
    "    featured_image_url = f'{url}/{featured_image_path}'\n",
    "    \n",
    "    featured_img = {\n",
    "        'featured_img_url':featured_image_url\n",
    "    }\n",
    "    \n",
    "    browser.quit()\n",
    "    \n",
    "    return featured_img"
   ]
  },
  {
   "cell_type": "code",
   "execution_count": null,
   "id": "standard-beatles",
   "metadata": {},
   "outputs": [],
   "source": [
    "#scrape_featured_space_img()"
   ]
  },
  {
   "cell_type": "code",
   "execution_count": null,
   "id": "ambient-contrary",
   "metadata": {},
   "outputs": [],
   "source": [
    "url = 'https://galaxyfacts-mars.com'"
   ]
  },
  {
   "cell_type": "code",
   "execution_count": null,
   "id": "limiting-asbestos",
   "metadata": {},
   "outputs": [],
   "source": [
    "tables = pd.read_html(url)\n",
    "tables"
   ]
  },
  {
   "cell_type": "code",
   "execution_count": null,
   "id": "toxic-activation",
   "metadata": {},
   "outputs": [],
   "source": [
    "df = tables[0]\n",
    "df"
   ]
  },
  {
   "cell_type": "code",
   "execution_count": null,
   "id": "destroyed-failure",
   "metadata": {},
   "outputs": [],
   "source": [
    "html_table = df.to_html()\n",
    "#html_table"
   ]
  },
  {
   "cell_type": "code",
   "execution_count": null,
   "id": "executed-woman",
   "metadata": {
    "scrolled": true
   },
   "outputs": [],
   "source": [
    "clean_html_table = html_table.replace('\\n','')\n",
    "clean_html_table "
   ]
  },
  {
   "cell_type": "code",
   "execution_count": null,
   "id": "sitting-duplicate",
   "metadata": {},
   "outputs": [],
   "source": [
    "# File Already Created \n",
    "# df.to_html('marsfacts.html')"
   ]
  },
  {
   "cell_type": "code",
   "execution_count": 13,
   "id": "wired-gazette",
   "metadata": {},
   "outputs": [],
   "source": [
    "def scrape_mars_hemispheres():\n",
    "    hemisphere_urls = [\n",
    "        'https://marshemispheres.com/cerberus.html',\n",
    "        'https://marshemispheres.com/schiaparelli.html', \n",
    "        'https://marshemispheres.com/syrtis.html',\n",
    "        'https://marshemispheres.com/valles.html'\n",
    "    ]\n",
    "    \n",
    "    url_list = []\n",
    "    \n",
    "    for i in range(len(hemisphere_urls)):\n",
    "        executable_path = {'executable_path': ChromeDriverManager().install()}\n",
    "        browser = Browser('chrome', **executable_path, headless=False)\n",
    "    \n",
    "        image_url = 'https://marshemispheres.com/'\n",
    "    \n",
    "        browser.visit(hemisphere_urls[i])\n",
    "\n",
    "        time.sleep(1)\n",
    "    \n",
    "        html = browser.html\n",
    "        soup = bs(html, \"html.parser\")\n",
    "    \n",
    "        hemisphere_block = soup.find('div', class_ = 'downloads')\n",
    "        hemisphere_ulsection = hemisphere_block.find('ul')\n",
    "        hemisphere_lisection = hemisphere_ulsection.find_all('li')[0]\n",
    "        hemisphere_path = hemisphere_lisection.find('a')[\"href\"]\n",
    "        hemisphere_url = image_url + hemisphere_path\n",
    "    \n",
    "        hemispheretitle = soup.find('h2', class_ = 'title').text\n",
    "    \n",
    "        hemisphere_image_title_urls = {\n",
    "            'title':hemispheretitle,'img_url':hemisphere_url\n",
    "        }\n",
    "        \n",
    "        url_list.append(hemisphere_image_title_urls)\n",
    "    \n",
    "        browser.quit()\n",
    "    \n",
    "    return url_list"
   ]
  },
  {
   "cell_type": "code",
   "execution_count": 14,
   "id": "compliant-rings",
   "metadata": {},
   "outputs": [
    {
     "name": "stderr",
     "output_type": "stream",
     "text": [
      "\n",
      "\n",
      "====== WebDriver manager ======\n",
      "Current google-chrome version is 90.0.4430\n",
      "Get LATEST driver version for 90.0.4430\n",
      "Driver [/Users/darrensagucio/.wdm/drivers/chromedriver/mac64/90.0.4430.24/chromedriver] found in cache\n",
      "\n",
      "\n",
      "====== WebDriver manager ======\n",
      "Current google-chrome version is 90.0.4430\n",
      "Get LATEST driver version for 90.0.4430\n",
      "Driver [/Users/darrensagucio/.wdm/drivers/chromedriver/mac64/90.0.4430.24/chromedriver] found in cache\n",
      "\n",
      "\n",
      "====== WebDriver manager ======\n",
      "Current google-chrome version is 90.0.4430\n",
      "Get LATEST driver version for 90.0.4430\n",
      "Driver [/Users/darrensagucio/.wdm/drivers/chromedriver/mac64/90.0.4430.24/chromedriver] found in cache\n",
      "\n",
      "\n",
      "====== WebDriver manager ======\n",
      "Current google-chrome version is 90.0.4430\n",
      "Get LATEST driver version for 90.0.4430\n",
      "Driver [/Users/darrensagucio/.wdm/drivers/chromedriver/mac64/90.0.4430.24/chromedriver] found in cache\n"
     ]
    },
    {
     "data": {
      "text/plain": [
       "[{'title': 'Cerberus Hemisphere Enhanced',\n",
       "  'img_url': 'https://marshemispheres.com/images/full.jpg'},\n",
       " {'title': 'Schiaparelli Hemisphere Enhanced',\n",
       "  'img_url': 'https://marshemispheres.com/images/schiaparelli_enhanced-full.jpg'},\n",
       " {'title': 'Syrtis Major Hemisphere Enhanced',\n",
       "  'img_url': 'https://marshemispheres.com/images/syrtis_major_enhanced-full.jpg'},\n",
       " {'title': 'Valles Marineris Hemisphere Enhanced',\n",
       "  'img_url': 'https://marshemispheres.com/images/valles_marineris_enhanced-full.jpg'}]"
      ]
     },
     "execution_count": 14,
     "metadata": {},
     "output_type": "execute_result"
    }
   ],
   "source": [
    "scrape_mars_hemispheres()"
   ]
  },
  {
   "cell_type": "code",
   "execution_count": 20,
   "id": "fleet-terminal",
   "metadata": {},
   "outputs": [],
   "source": [
    "def scrape():\n",
    "    url_list = [\n",
    "        'https://redplanetscience.com/',\n",
    "        'https://spaceimages-mars.com',\n",
    "        'https://marshemispheres.com/cerberus.html',\n",
    "        'https://marshemispheres.com/schiaparelli.html',\n",
    "        'https://marshemispheres.com/syrtis.html',\n",
    "        'https://marshemispheres.com/valles.html'\n",
    "    ]\n",
    "\n",
    "    loop_count = 0\n",
    "    count_hemispheres = 0 \n",
    "    hemisphere_list = []\n",
    "\n",
    "    for i in range(len(url_list)):\n",
    "        executable_path = {'executable_path': ChromeDriverManager().install()}\n",
    "        browser = Browser('chrome', **executable_path, headless=False)\n",
    "\n",
    "        browser.visit(url_list[i])\n",
    "\n",
    "        time.sleep(1)\n",
    "        \n",
    "        html = browser.html\n",
    "        soup = bs(html, \"html.parser\")\n",
    "\n",
    "        if loop_count == 0:\n",
    "            news_block = soup.find('div', class_='list_text')\n",
    "    \n",
    "            recent_title = news_block.find_all('div', class_='content_title')[0].text\n",
    "            recent_p = news_block.find_all('div', class_='article_teaser_body')[0].text\n",
    "\n",
    "            mars_scrapedata = {\n",
    "                'recent_title': recent_title,\n",
    "                'recent_parag': recent_p\n",
    "            }\n",
    "\n",
    "            browser.quit()\n",
    "        \n",
    "        if loop_count == 1:\n",
    "            featured_img_block = soup.find('div', class_='floating_text_area')\n",
    "    \n",
    "            featured_image_path = featured_img_block.find('a')[\"href\"]\n",
    "            featured_image_url = f'{url_list[i]}/{featured_image_path}'\n",
    "\n",
    "            mars_scrapedata['featured_img_url'] = featured_image_url\n",
    "\n",
    "            browser.quit()\n",
    "        \n",
    "        if loop_count > 1:\n",
    "            hemisphere_block = soup.find('div', class_ = 'downloads')\n",
    "            hemisphere_ulsection = hemisphere_block.find('ul')\n",
    "            hemisphere_lisection = hemisphere_ulsection.find_all('li')[0]\n",
    "            hemisphere_path = hemisphere_lisection.find('a')[\"href\"]\n",
    "            hemisphere_url = url_list[i] + hemisphere_path\n",
    "    \n",
    "            hemispheretitle = soup.find('h2', class_ = 'title').text\n",
    "    \n",
    "            hemisphere_image_title_urls = {\n",
    "                'title':hemispheretitle,'img_url':hemisphere_url\n",
    "            }\n",
    "        \n",
    "            hemisphere_list.append(hemisphere_image_title_urls)\n",
    "\n",
    "            browser.quit()\n",
    "            \n",
    "            count_hemispheres += 1\n",
    "            \n",
    "            if count_hemispheres == 4:\n",
    "                mars_scrapedata['hemisphere_urls'] = hemisphere_list\n",
    "                    \n",
    "        loop_count += 1   \n",
    "            \n",
    "    return mars_scrapedata"
   ]
  },
  {
   "cell_type": "code",
   "execution_count": 21,
   "id": "disturbed-buying",
   "metadata": {},
   "outputs": [
    {
     "name": "stderr",
     "output_type": "stream",
     "text": [
      "\n",
      "\n",
      "====== WebDriver manager ======\n",
      "Current google-chrome version is 90.0.4430\n",
      "Get LATEST driver version for 90.0.4430\n",
      "Driver [/Users/darrensagucio/.wdm/drivers/chromedriver/mac64/90.0.4430.24/chromedriver] found in cache\n",
      "\n",
      "\n",
      "====== WebDriver manager ======\n",
      "Current google-chrome version is 90.0.4430\n",
      "Get LATEST driver version for 90.0.4430\n",
      "Driver [/Users/darrensagucio/.wdm/drivers/chromedriver/mac64/90.0.4430.24/chromedriver] found in cache\n",
      "\n",
      "\n",
      "====== WebDriver manager ======\n",
      "Current google-chrome version is 90.0.4430\n",
      "Get LATEST driver version for 90.0.4430\n",
      "Driver [/Users/darrensagucio/.wdm/drivers/chromedriver/mac64/90.0.4430.24/chromedriver] found in cache\n",
      "\n",
      "\n",
      "====== WebDriver manager ======\n",
      "Current google-chrome version is 90.0.4430\n",
      "Get LATEST driver version for 90.0.4430\n",
      "Driver [/Users/darrensagucio/.wdm/drivers/chromedriver/mac64/90.0.4430.24/chromedriver] found in cache\n",
      "\n",
      "\n",
      "====== WebDriver manager ======\n",
      "Current google-chrome version is 90.0.4430\n",
      "Get LATEST driver version for 90.0.4430\n",
      "Driver [/Users/darrensagucio/.wdm/drivers/chromedriver/mac64/90.0.4430.24/chromedriver] found in cache\n",
      "\n",
      "\n",
      "====== WebDriver manager ======\n",
      "Current google-chrome version is 90.0.4430\n",
      "Get LATEST driver version for 90.0.4430\n",
      "Driver [/Users/darrensagucio/.wdm/drivers/chromedriver/mac64/90.0.4430.24/chromedriver] found in cache\n"
     ]
    },
    {
     "data": {
      "text/plain": [
       "{'recent_title': \"NASA Wins 4 Webbys, 4 People's Voice Awards\",\n",
       " 'recent_parag': 'Winners include the JPL-managed \"Send Your Name to Mars\" campaign, NASA\\'s Global Climate Change website and Solar System Interactive.',\n",
       " 'featured_img_url': 'https://spaceimages-mars.com/image/featured/mars2.jpg',\n",
       " 'hemisphere_urls': [{'title': 'Cerberus Hemisphere Enhanced',\n",
       "   'img_url': 'https://marshemispheres.com/cerberus.htmlimages/full.jpg'},\n",
       "  {'title': 'Schiaparelli Hemisphere Enhanced',\n",
       "   'img_url': 'https://marshemispheres.com/schiaparelli.htmlimages/schiaparelli_enhanced-full.jpg'},\n",
       "  {'title': 'Syrtis Major Hemisphere Enhanced',\n",
       "   'img_url': 'https://marshemispheres.com/syrtis.htmlimages/syrtis_major_enhanced-full.jpg'},\n",
       "  {'title': 'Valles Marineris Hemisphere Enhanced',\n",
       "   'img_url': 'https://marshemispheres.com/valles.htmlimages/valles_marineris_enhanced-full.jpg'}]}"
      ]
     },
     "execution_count": 21,
     "metadata": {},
     "output_type": "execute_result"
    }
   ],
   "source": [
    "scrape()"
   ]
  },
  {
   "cell_type": "code",
   "execution_count": null,
   "id": "needed-overall",
   "metadata": {},
   "outputs": [],
   "source": []
  }
 ],
 "metadata": {
  "kernelspec": {
   "display_name": "Python [conda env:PythonData] *",
   "language": "python",
   "name": "conda-env-PythonData-py"
  },
  "language_info": {
   "codemirror_mode": {
    "name": "ipython",
    "version": 3
   },
   "file_extension": ".py",
   "mimetype": "text/x-python",
   "name": "python",
   "nbconvert_exporter": "python",
   "pygments_lexer": "ipython3",
   "version": "3.6.10"
  }
 },
 "nbformat": 4,
 "nbformat_minor": 5
}
